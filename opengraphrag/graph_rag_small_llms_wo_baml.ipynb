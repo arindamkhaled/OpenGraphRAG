{
 "cells": [
  {
   "cell_type": "code",
   "execution_count": 1,
   "id": "5ff7a098-413e-4e19-b4bd-317386d44916",
   "metadata": {
    "editable": true,
    "slideshow": {
     "slide_type": ""
    },
    "tags": []
   },
   "outputs": [],
   "source": [
    "from langchain_experimental.graph_transformers import LLMGraphTransformer\n",
    "from langchain_ollama import ChatOllama\n",
    "import pandas as pd\n",
    "\n",
    "from typing import List\n",
    "from langchain_community.graphs.graph_document import GraphDocument, Node, Relationship\n",
    "from langchain_core.documents import Document"
   ]
  },
  {
   "cell_type": "code",
   "execution_count": 20,
   "id": "215685d9",
   "metadata": {},
   "outputs": [],
   "source": [
    "model = \"mistral\"\n",
    "\n",
    "llm = ChatOllama(model=model, temparature=0, temperature=0.001)"
   ]
  },
  {
   "cell_type": "code",
   "execution_count": 21,
   "id": "13eba915",
   "metadata": {},
   "outputs": [],
   "source": [
    "from langchain_core.pydantic_v1 import BaseModel, Field\n",
    "\n",
    "\n",
    "class Joke(BaseModel):\n",
    "    setup: str = Field(description=\"The setup of the joke\")\n",
    "    punchline: str = Field(description=\"The punchline to the joke\")"
   ]
  },
  {
   "cell_type": "code",
   "execution_count": 22,
   "id": "4f850847",
   "metadata": {},
   "outputs": [
    {
     "data": {
      "text/plain": [
       "RunnableBinding(bound=ChatOllama(model='mistral', temperature=0.001), kwargs={'tools': [{'type': 'function', 'function': {'name': 'Joke', 'description': '', 'parameters': {'type': 'object', 'properties': {'setup': {'description': 'The setup of the joke', 'type': 'string'}, 'punchline': {'description': 'The punchline to the joke', 'type': 'string'}}, 'required': ['setup', 'punchline']}}}], 'tool_choice': 'any'}, config={}, config_factories=[])\n",
       "| PydanticToolsParser(first_tool_only=True, tools=[<class '__main__.Joke'>])"
      ]
     },
     "execution_count": 22,
     "metadata": {},
     "output_type": "execute_result"
    }
   ],
   "source": [
    "llm.with_structured_output(Joke)\n"
   ]
  },
  {
   "cell_type": "code",
   "execution_count": 23,
   "id": "ab2d2521-5aac-4fb3-a740-011975a218f4",
   "metadata": {
    "editable": true,
    "slideshow": {
     "slide_type": ""
    },
    "tags": []
   },
   "outputs": [
    {
     "data": {
      "text/html": [
       "<div>\n",
       "<style scoped>\n",
       "    .dataframe tbody tr th:only-of-type {\n",
       "        vertical-align: middle;\n",
       "    }\n",
       "\n",
       "    .dataframe tbody tr th {\n",
       "        vertical-align: top;\n",
       "    }\n",
       "\n",
       "    .dataframe thead th {\n",
       "        text-align: right;\n",
       "    }\n",
       "</style>\n",
       "<table border=\"1\" class=\"dataframe\">\n",
       "  <thead>\n",
       "    <tr style=\"text-align: right;\">\n",
       "      <th></th>\n",
       "      <th>title</th>\n",
       "      <th>date</th>\n",
       "      <th>text</th>\n",
       "      <th>tokens</th>\n",
       "    </tr>\n",
       "  </thead>\n",
       "  <tbody>\n",
       "    <tr>\n",
       "      <th>0</th>\n",
       "      <td>Chevron: Best Of Breed</td>\n",
       "      <td>2031-04-06T01:36:32.000000000+00:00</td>\n",
       "      <td>JHVEPhoto Like many companies in the O&amp;G secto...</td>\n",
       "      <td>78</td>\n",
       "    </tr>\n",
       "    <tr>\n",
       "      <th>1</th>\n",
       "      <td>FirstEnergy (NYSE:FE) Posts Earnings Results</td>\n",
       "      <td>2030-04-29T06:55:28.000000000+00:00</td>\n",
       "      <td>FirstEnergy (NYSE:FE – Get Rating) posted its ...</td>\n",
       "      <td>130</td>\n",
       "    </tr>\n",
       "    <tr>\n",
       "      <th>2</th>\n",
       "      <td>Dáil almost suspended after Sinn Féin TD put p...</td>\n",
       "      <td>2023-06-15T14:32:11.000000000+00:00</td>\n",
       "      <td>The Dáil was almost suspended on Thursday afte...</td>\n",
       "      <td>631</td>\n",
       "    </tr>\n",
       "    <tr>\n",
       "      <th>3</th>\n",
       "      <td>Epic’s latest tool can animate hyperrealistic ...</td>\n",
       "      <td>2023-06-15T14:00:00.000000000+00:00</td>\n",
       "      <td>Today, Epic is releasing a new tool designed t...</td>\n",
       "      <td>528</td>\n",
       "    </tr>\n",
       "    <tr>\n",
       "      <th>4</th>\n",
       "      <td>EU to Ban Huawei, ZTE from Internal Commission...</td>\n",
       "      <td>2023-06-15T13:50:00.000000000+00:00</td>\n",
       "      <td>The European Commission is planning to ban equ...</td>\n",
       "      <td>281</td>\n",
       "    </tr>\n",
       "  </tbody>\n",
       "</table>\n",
       "</div>"
      ],
      "text/plain": [
       "                                               title  \\\n",
       "0                             Chevron: Best Of Breed   \n",
       "1       FirstEnergy (NYSE:FE) Posts Earnings Results   \n",
       "2  Dáil almost suspended after Sinn Féin TD put p...   \n",
       "3  Epic’s latest tool can animate hyperrealistic ...   \n",
       "4  EU to Ban Huawei, ZTE from Internal Commission...   \n",
       "\n",
       "                                  date  \\\n",
       "0  2031-04-06T01:36:32.000000000+00:00   \n",
       "1  2030-04-29T06:55:28.000000000+00:00   \n",
       "2  2023-06-15T14:32:11.000000000+00:00   \n",
       "3  2023-06-15T14:00:00.000000000+00:00   \n",
       "4  2023-06-15T13:50:00.000000000+00:00   \n",
       "\n",
       "                                                text  tokens  \n",
       "0  JHVEPhoto Like many companies in the O&G secto...      78  \n",
       "1  FirstEnergy (NYSE:FE – Get Rating) posted its ...     130  \n",
       "2  The Dáil was almost suspended on Thursday afte...     631  \n",
       "3  Today, Epic is releasing a new tool designed t...     528  \n",
       "4  The European Commission is planning to ban equ...     281  "
      ]
     },
     "execution_count": 23,
     "metadata": {},
     "output_type": "execute_result"
    }
   ],
   "source": [
    "import pandas as pd\n",
    "import tiktoken\n",
    "\n",
    "\n",
    "def num_tokens_from_string(string: str, model: str = \"gpt-4o\") -> int:\n",
    "    \"\"\"Returns the number of tokens in a text string.\"\"\"\n",
    "    encoding = tiktoken.encoding_for_model(model)\n",
    "    num_tokens = len(encoding.encode(string))\n",
    "    return num_tokens\n",
    "\n",
    "\n",
    "news = pd.read_csv(\n",
    "    \"https://raw.githubusercontent.com/tomasonjo/blog-datasets/main/news_articles.csv\"\n",
    ")\n",
    "news[\"tokens\"] = [\n",
    "    num_tokens_from_string(f\"{row['title']} {row['text']}\")\n",
    "    for i, row in news.iterrows()\n",
    "]\n",
    "news.head()"
   ]
  },
  {
   "cell_type": "code",
   "execution_count": 24,
   "id": "e4e51216",
   "metadata": {},
   "outputs": [],
   "source": [
    "from langchain_experimental.graph_transformers import LLMGraphTransformer\n",
    "\n",
    "\n",
    "llm_transformer = LLMGraphTransformer(\n",
    "    llm=llm,\n",
    "    node_properties=[\"description\"],\n",
    "    relationship_properties=[\"description\"]\n",
    ")"
   ]
  },
  {
   "cell_type": "code",
   "execution_count": null,
   "id": "a5197cd6",
   "metadata": {},
   "outputs": [],
   "source": [
    "from typing import List\n",
    "from langchain_community.graphs.graph_document import GraphDocument\n",
    "from langchain_core.documents import Document\n",
    "\n",
    "def process_text(text: str) -> List[GraphDocument]:\n",
    "    doc = Document(page_content=text)\n",
    "    return llm_transformer.convert_to_graph_documents([doc])"
   ]
  },
  {
   "cell_type": "code",
   "execution_count": 26,
   "id": "57c61ff0",
   "metadata": {},
   "outputs": [
    {
     "name": "stderr",
     "output_type": "stream",
     "text": [
      "Processing documents:   0%|          | 0/20 [00:00<?, ?it/s]"
     ]
    },
    {
     "name": "stderr",
     "output_type": "stream",
     "text": [
      "Processing documents: 100%|██████████| 20/20 [01:32<00:00,  4.64s/it]\n"
     ]
    }
   ],
   "source": [
    "from concurrent.futures import ThreadPoolExecutor, as_completed\n",
    "from tqdm import tqdm\n",
    "\n",
    "MAX_WORKERS = 10\n",
    "NUM_ARTICLES = 20\n",
    "graph_documents = []\n",
    "\n",
    "with ThreadPoolExecutor(max_workers=MAX_WORKERS) as executor:\n",
    "    # Submitting all tasks and creating a list of future objects\n",
    "    futures = [\n",
    "        executor.submit(process_text, f\"{row['title']} {row['text']}\")\n",
    "        for i, row in news.head(NUM_ARTICLES).iterrows()\n",
    "    ]\n",
    "\n",
    "    for future in tqdm(\n",
    "        as_completed(futures), total=len(futures), desc=\"Processing documents\"\n",
    "    ):\n",
    "        graph_document = future.result()\n",
    "        graph_documents.extend(graph_document)\n"
   ]
  },
  {
   "cell_type": "code",
   "execution_count": 27,
   "id": "47a7ba5b",
   "metadata": {},
   "outputs": [
    {
     "data": {
      "text/plain": [
       "[GraphDocument(nodes=[], relationships=[], source=Document(metadata={}, page_content='XPeng Stock Rises. The Tesla Rival Rolled Out Self-Driving Tech. Chinese electric-vehicle maker\\nXPeng\\nsaid Thursday its assisted-driving technology has been launched in Beijing and three other cities. The\\nTesla\\nrival’s stock was rising in premarket trading.')),\n",
       " GraphDocument(nodes=[], relationships=[], source=Document(metadata={}, page_content='Ryanair sacks chief pilot over sexual misconduct claims Reuters\\nRyanair has sacked its chief pilot after an investigation into his alleged sexual harassment of female colleagues.\\nThe airline told staff that he had been fired for \"a pattern of repeated inappropriate and unacceptable behaviour towards a number of female pilots\".\\nThe chief pilot, named in reports as Aidan Murray was appointed in 2020 and had been with the airline for 28 years.\\nRyanair declined to comment \"on queries relating to individual employees\".\\nAccording to The Independent, Mr Murray allegedly harassed nine junior colleagues, including sending text messages to some with comments on their bodies.\\nMr Murray, 58, is also accused of altering flight rosters to fly with certain female pilots.\\nIn a note to staff, Ryanair\\'s chief people officer, Darrell Hughes, said Mr Murray\\'s employment had been \"terminated with immediate effect\".\\nAn investigation found his behaviour \"was in breach of our anti-harassment policy\". Ryanair said staff should be able to come to work \"in a safe and secure environment\".\\n\"We would ask all of you to respect the privacy and integrity of those brave individuals who came forward to assist us in this investigation,\" Mr Hughes added.\\nThe Financial Times reported that Mr Murray has seven days to launch an appeal against his dismissal.\\nThe BBC has attempted to contact Mr Murray for comment.\\nThe job of chief pilot is an important one. The holder is both a highly qualified airline captain and a manager, responsible for overseeing other pilots based at a hub airport.\\nThey are usually in charge of issues such as training, flight coordination and rostering as well as addressing personal issues. They can also represent the airline in disciplinary issues.\\nAs such, they have a lot of power over their fellow pilots, particularly more junior ones seeking promotions.\\nThe suggestion that someone in this position might be abusing their power - and behaving in an \"inappropriate and unacceptable\" way towards female staff - is therefore a very serious charge.\\nIt\\'s important to note that we haven\\'t heard the other side of the story. But it appears that whistleblowers have come forward - and have been listened to.\\nAgainst that background, the dismissal should come as no surprise.\\nA report last year by the Royal Aeronautical Society into discrimination and lack of diversity in airline pilot training found \"extremely concerning\" reports of sexism and sexual harassment by many female pilots.\\nAlthough many had positive comments on their training, reports of sexism and harassment ranged from \"banter\" to \"uncomfortable advances from male trainers\".\\nRelated Topics\\nSexual harassment\\nRyanair\\nMore on this story\\nPilot, 15, wants to inspire more women into gliding\\n2 hours ago\\nHeathrow workers call off first summer strikes\\n2 days ago')),\n",
       " GraphDocument(nodes=[], relationships=[], source=Document(metadata={}, page_content='Dáil almost suspended after Sinn Féin TD put pager in front of Minister during firefighters debate The Dáil was almost suspended on Thursday afternoon after Sinn Féin TD John Brady walked across the chamber and placed an on-call pager in front of the Minister for Housing Darragh O’Brien during a debate on retained firefighters.\\nMr O’Brien said Mr Brady had taken part in “an act of theatre” that was “obviously choreographed”.\\nAround 2,000 retained firefighters around the country staged a second day of industrial action on Tuesday and are due to start all out-strike action from next Tuesday. The mostly part-time workers, who keep the services going outside of Ireland’s larger urban centres, are taking industrial action in a dispute over pay and working conditions.\\nSpeaking in the Dáil, Sinn Féin deputy leader Pearse Doherty said firefighters had marched on Leinster House today and were “very angry” at “the fact the Government will not intervene”.\\nREAD MORE\\nDáil almost suspended after Sinn Féin TD put pager in front of Minister during firefighters debate\\nReintroduction of tax relief on mortgages needs to be considered, O’Brien says\\nMartin withdraws comment after saying People Before Profit would ‘put the jackboot on people’\\nTaoiseach ‘propagated fears’ farmers forced to rewet land due to nature restoration law – Cairns\\n“An intervention is required now. I’m asking you to make an improved offer in relation to pay for retained firefighters,” Mr Doherty told the housing minister.\\n“I’m also asking you, and challenging you, to go outside after this Order of Business and meet with the firefighters because they are just fed up to the hilt in relation to what you said.\\n“Some of them have handed in their pagers to members of the Opposition and have challenged you to wear the pager for the next number of weeks, put up with an €8,600 retainer and not leave your community for the two and a half kilometres and see how you can stand over those type of pay and conditions.”\\nAt this point, Mr Brady got up from his seat, walked across the chamber and placed the pager on the desk in front of Mr O’Brien. Ceann Comhairle Seán Ó Fearghaíl said the Sinn Féin TD was “completely out of order” and told him not to “carry out a charade in this House”, adding it was “absolutely outrageous behaviour and not to be encouraged”.\\nMr O’Brien said Mr Brady had engaged in “an act of theatre here today which was obviously choreographed” and was then interrupted with shouts from the Opposition benches. Mr Ó Fearghaíl said he would suspend the House “if this racket continues”.\\nMr O’Brien later said he said he was confident the dispute could be resolved and he had “immense regard” for firefighters. The minister said he would encourage the unions to re-engage with the State’s industrial relations process while also accusing Sinn Féin of using the issue for their “own political gain”.\\n“You see what happened here today, you’re shameless and people see through it,” he told Mr Doherty.')),\n",
       " GraphDocument(nodes=[Node(id='Jude Bellingham', type='Person', properties={}), Node(id='Real Madrid', type='Organization', properties={}), Node(id='Borussia Dortmund', type='Organization', properties={}), Node(id='Jesus Vallejo', type='Person', properties={})], relationships=[], source=Document(metadata={}, page_content='Arsenal have Rice bid rejected, new Premier League fixtures released, Man United out of Harry Kane race, Chelsea reject Mason Mount bid Jude Bellingham has also insisted his move to Real Madrid had nothing to do with money, as he explained how his transfer was wrapped up so quickly.\\n“Money is not a thing for me,” he said.\\n“I dont think about money at all when I make these kinds of decisions. I never have and I never will. I play the game purely out of love.\\n“I spoke with people from Real Madrid when I was given permission by Borussia Dortmund and I love the feeling I got from the club. I couldn’t hide it. I told them straight away what I felt and after that happened on Monday it all happened quickly.”\\nHe also opened up on how he was given the No.5 shirt, which was worn by defender Jesus Vallejo last season, and what it means to him to have Zidane’s old number on his back.\\n“For a start I’d like to thank Jesus Vallejo for letting me wear the No.5,” he explained.\\n“I contacted him just to see if it was OK with him and he was just a brilliant guy, he let me wear it and was just so nice about it, so I’m very grateful to him.\\n“I’ve said in many interviews how much I admire Zidane, the legacy he has at the club and the legacy of his number.\\n“I’m not trying to be the same as him, I’m just trying to be Jude, but it’s definitely a bit of a homage to how great he was.\\n“As for the 22, it’s a number that has a lot of meaning to me and in my heart I’m still a 22, I’m just wearing the No.5 on my back.\\n“We’ll see what happens in the future, but right now I’m really happy to be given this honour of wearing this number.”')),\n",
       " GraphDocument(nodes=[], relationships=[], source=Document(metadata={}, page_content='EU to Ban Huawei, ZTE from Internal Commission Networks The European Commission is planning to ban equipment from Chinese vendors Huawei Technologies Co. and ZTE Corp. from its own internal telecommunications networks, people familiar with the matter said.\\nThe ban comes ahead of an anticipated update to the European Union’s guidance on 5G mobile networks within the bloc that’s expected to more forcefully encourage members to phase out equipment from the companies, which it considers high risk, the people said, asking not to be identified because the plan isn’t yet public.\\nAs the relationship between the US and its allies and China has deteriorated, countries have blocked Chinese technology from their core telecommunications networks because of spying concerns. The move is similar to the commission’s decision to block its staff from using TikTok Inc. over security concerns related to the social-media app’s data-collection practices.\\nRead More: TikTok Banned From EU Commission Phones Amid Security Fears\\nIn the EU’s review of the 5G “toolbox,” the commission will say that publicly excluding Huawei and ZTE from national networks is justified and will explicitly call out Huawei and ZTE as high-risk vendors by name for the first time. The majority of countries have yet to ban the two Chinese vendors from their networks.\\nRepresentatives for Huawei and ZTE didn’t immediately respond to requests for comment.\\n— With assistance by Thomas Seal and Alberto Nardelli')),\n",
       " GraphDocument(nodes=[], relationships=[], source=Document(metadata={}, page_content='Epic’s latest tool can animate hyperrealistic MetaHumans with an iPhone Today, Epic is releasing a new tool designed to capture an actor’s facial performance using a device as simple as an iPhone and apply it to a hyperrealistic “MetaHuman” in the Unreal Engine in “minutes.” The feature, dubbed MetaHuman Animator, was detailed at the Game Developers Conference in March but is now available for developers to try out for themselves. Epic has also released a new video today produced by one of its internal teams to show what the tool is capable of.\\nWhile Epic’s short film shows off some impressively subtle facial animation, the big benefit the company is emphasizing is the speed with which MetaHuman Animator produces results. “The animation is produced locally using GPU hardware, with the final animation available in minutes,” the company’s press release reads. That has the potential to not just save a studio money by making performance capture more efficient but also, Epic argues, it could allow them to experiment and be more creative.\\n“Need an actor to give you more, dig into a different emotion, or simply explore a new direction?” Epic’s press release asks. “Have them do another take. You’ll be able to review the results in about the time it takes to make a cup of coffee.” Facial animation can be applied to a MetaHuman character “in just a few clicks,” Epic says, and the system is even smart enough to animate a character’s tongue based on the performance’s audio.\\nPerformance capture using iPhones has been possible in the Unreal Engine since at least 2020 with the launch of Epic’s Live Link Face iOS app, but now, it’s combined with the high level of detail promised by Epic’s MetaHuman technology. As well as working on the iPhone 12 and up (which is capable of capturing both video and depth data), Epic says MetaHuman Animator can also be used with “existing vertical stereo head-mounted camera [systems] to achieve even greater fidelity.”\\nEpic says the Blue Dot short film released today should give some idea of what its animation tool is capable of. It was produced by Epic Games’ 3Lateral team and stars actor Radivoje Bukvić delivering a monologue based on a poem by Mika Antić. Although Epic says it’s possible to tweak animation post-capture, it claims “minimal interventions” were made on top of the MetaHuman Animator’s performance capture to achieve these results.\\nIf you want to learn more, Epic has released an instructional video on how to use the tool. Documentation is also available via the MetaHuman hub on the Epic Developer Community.')),\n",
       " GraphDocument(nodes=[Node(id='Firstenergy', type='Company', properties={})], relationships=[], source=Document(metadata={}, page_content='FirstEnergy (NYSE:FE) Posts Earnings Results FirstEnergy (NYSE:FE – Get Rating) posted its earnings results on Tuesday. The utilities provider reported $0.53 earnings per share for the quarter, topping the consensus estimate of $0.52 by $0.01, RTT News reports. FirstEnergy had a net margin of 10.85% and a return on equity of 17.17%. During the same period...\\nIf the content contained herein violates any of your rights, including those of copyright, you are requested to immediately notify us using via the following email address operanews-external(at)opera.com\\nTop News')),\n",
       " GraphDocument(nodes=[], relationships=[], source=Document(metadata={}, page_content=\"Vivo X90s Officially Teased, Tipped to Run on New MediaTek Dimensity 9200+ SoC Vivo X90s has been teased by Jia Jingdong, Vivo's Vice President and General Manager of Product Strategy via Weibo on Thursday. The new smartphone has a design similar to its Vivo X90 series siblings — Vivo X90 and Vivo X90 Pro. The Vivo X90s is shown to have a Zeiss-tuned triple rear camera unit. The upcoming model is expected to retain the key specification of the Vivo X90. Meanwhile, Chinese tipsters have leaked the specifications of the upcoming handset. The Vivo X90s is said to run on MediaTek Dimensity 9200+ SoC and could be offered in four different colour options.\\nJia Jingdong posted an image of the Vivo X90s on the Chinese microblogging platform providing us a glimpse of the design from the rear. The render shows the handset in a white finish with rounded corners. The image suggests Zeiss branded triple rear cameras on the rear panel along with an LED flash. It seems to have a glass back with the Vivo branding at the bottom.\\nVivo, however, didn't confirm the exact launch date or key specifications of the Vivo X90s.\\nSeparately, several Chinese tipsters posted specifications of the upcoming Vivo X90s on Weibo. According to the tipsters, the handset will be powered by the latest MediaTek Dimensity 9200+ SoC. This would be an upgrade over the MediaTek Dimensity 9200 SoC found on the vanilla Vivo X90. The new model is said to offer Wi-Fi 7 connectivity and could be offered in black, blue, green, red, and white colour options. The Vivo X90, in contrast, has Wi-Fi 6 and is available in China Red, Ice Blue, and Original Black (translated from Chinese) in China.\\nA TENAA listing from May revealed the specifications of the Vivo X90s. As per the listing, it will have a 6.78-inch 1.5K (1,280 x 2,800 pixels) curved AMOLED display. The screen has a centre-aligned hole-punch cutout at the top. It is listed to carry up to 16GB of RAM along with up to 1TB of inbuilt storage.\\nOppo, OnePlus, Realme to Operate as Separate Entities in India: Report\\nThe triple rear camera setup of the handset could include a 50-megapixel main camera sensor, accompanied by a 12-megapixel ultra-wide lens, and a 12-megapixel portrait sensor. It is said to pack a 32-megapixel selfie camera as well. Vivo is expected to provide a 4,690mAh battery on the Vivo X90s.\\nThe Vivo X90 Pro has finally made its debut in India, but is the company's flagship smartphone for 2023 equipped with enough upgrades over its predecessor? We discuss this and more on Orbital, the Gadgets 360 podcast. Orbital is available on Spotify, Gaana, JioSaavn, Google Podcasts, Apple Podcasts, Amazon Music and wherever you get your podcasts.\\nAffiliate links may be automatically generated - see our ethics statement for details.\\nFor the latest tech news and reviews, follow Gadgets 360 on Twitter, Facebook, and Google News. For the latest videos on gadgets and tech, subscribe to our YouTube channel.\")),\n",
       " GraphDocument(nodes=[Node(id='Keybank', properties={}), Node(id='American Fork Branch', properties={}), Node(id='Drew Yergensen', properties={}), Node(id='Jason Scorup', properties={}), Node(id='Five.12 Foundation', properties={})], relationships=[], source=Document(metadata={}, page_content='KeyBank’s American Fork Branch Celebrates One Year Anniversary CLEVELAND, UT / ACCESSWIRE / June 15, 2023 / KeyBank recently commemorated the one-year anniversary of its American Fork branch - the company\\'s first new branch in the Western half of the U.S. in more than a decade. The celebration included a networking event with the branch\\'s business clients and the American Fork Chamber of Commerce, as well as a $10,000 donation to the Five.12 Foundation.\\n\"We\\'ve had a great first year in American Fork,\" said Drew Yergensen, KeyBank Utah market president and commercial banking leader. \"We have really enjoyed meeting and working more closely with our new neighbors, clients and community partners, and we look forward to strengthening those relationships even further in the coming years.\"\\nThe American Fork branch highlights KeyBank\\'s state-of-the-art financial wellness center model, which is staffed with financial wellness consultants rather than a traditional teller line. All transactions are completed at desks, where consultants also conduct comprehensive financial wellness reviews and discussions. Clients can also meet with specialists in mortgage, investments, business banking and more at the location.\\nThe branch features digital video screens and a client hospitality space that also serves as an area for financial seminars and group presentations with clients and the public, as well as a drive-up teller line, ATM and complimentary parking. In addition to helping individuals and families achieve their financial goals, the branch also serves clients seeking to develop and grow businesses in the area.\\n\"We are here to help the community of American Fork with all of their banking and small business needs,\" said Jason Scorup, KeyBank American Fork branch manager. \"We also take pride in the positive impact we\\'ve had by giving back to community partners like the Five.12 Foundation, and we look forward to building even more community partnerships in and around American Fork.\"\\nBased in Alpine, Utah, the Five.12 Foundation organizes and distributes weekend food bags to students in need at four American Fork elementary schools, including Greenwood, Forbes, Barratt and Shelley.\\nThe full-service branch is located at 717 West Main in American Fork, directly off of the 278 exit from I-15.\\nCONTACT:\\nLaura Suter | Regional Communications Manager | 206.343.6953 | laura_suter@keybank.com\\nABOUT KEYBANK\\nKeyCorp\\'s roots trace back nearly 200 years to Albany, New York. Headquartered in Cleveland, Ohio, Key is one of the nation\\'s largest bank-based financial services companies, with assets of approximately $198 billion at March 31, 2023. Key provides deposit, lending, cash management, and investment services to individuals and businesses in 15 states under the name KeyBank National Association through a network of approximately 1,000 branches and approximately 1,300 ATMs. Key also provides a broad range of sophisticated corporate and investment banking products, such as merger and acquisition advice, public and private debt and equity, syndications and derivatives to middle market companies in selected industries throughout the United States under the KeyBanc Capital Markets trade name. For more information, visit https://www.key.com/. KeyBank is Member FDIC.\\n###\\nView additional multimedia and more ESG storytelling from KeyBank on 3blmedia.com.\\nContact Info:\\nSpokesperson: KeyBank\\nWebsite: https://www.3blmedia.com/profiles/keybank\\nEmail: info@3blmedia.com\\nSOURCE: KeyBank\\nView source version on accesswire.com:\\nhttps://www.accesswire.com/761502/KeyBanks-American-Fork-Branch-Celebrates-One-Year-Anniversary\\nSerious News for Serious Traders! Try StreetInsider.com Premium Free!\\nYou May Also Be Interested In')),\n",
       " GraphDocument(nodes=[], relationships=[], source=Document(metadata={}, page_content='Chevron: Best Of Breed JHVEPhoto Like many companies in the O&G sector, the stock of Chevron (NYSE:CVX) has declined about 10% over the past 90-days despite the fact that Q2 consensus earnings estimates have risen sharply (~25%) during that same time frame. Over the years, Chevron has kept a very strong balance sheet. That allowed the...')),\n",
       " GraphDocument(nodes=[], relationships=[], source=Document(metadata={}, page_content='NFL Rumors: What Patriots ‘Made Clear’ To DeAndre Hopkins’ Reps The Patriots apparently didn’t waste any time courting DeAndre Hopkins once he hit the open market.\\nHopkins officially became an NFL free agent when he was released by the Arizona Cardinals on May 26. Around that juncture, New England reportedly reached out to the star wide receiver’s team to express interest. Those conversations birthed a free-agent visit, which reportedly started Wednesday in Foxboro, Mass. and carried into Thursday morning.\\n“I just got official word: DeAndre Hopkins is in New England,” NFL insider Jeremy Fowler said Thursday on ESPN’s “Get Up.” “He’s meeting with the Patriots. He will meet with the coaches, Bill Belichick. The Patriots’ interest remains high. They made that clear with Hopkins’ representatives from the very beginning when he became a free agent. So, we’ll see if they can close on this thing.”\\nHopkins has received co-signs from New England team leaders like Mac Jones and Matthew Judon, and the Patriots reportedly are optimistic they can add the five-time Pro Bowl selection. But even if Hopkins’ meeting with the Patriots goes well, don’t be surprised if the 31-year-old leaves New England without a deal.\\n“I’m also told Hopkins (is) not in a major rush,” Fowler said. “He’s looking at more of training camp, even early August as more of a harder deadline for him to sign somewhere. So, it would have to be a very sweet offer for New England to make that happen today.”\\nThe Patriots appear to be the second team Hopkins met with as a free agent. Prior to his trip to New England, the veteran pass-catcher talked shop with the Titans in Nashville.')),\n",
       " GraphDocument(nodes=[], relationships=[], source=Document(metadata={}, page_content='BofA Surpasses $500 Million in Equity Investments to Support Minority and Women Entrepreneurs Investments in Diverse-led Funds Result in Capital Deployed to Over 1,000 Companies Across the U.S.\\nNEW YORK, June 15, 2023 /PRNewswire/ -- Bank of America today announced that it has committed more than $500 million in equity investments to minority- and women-led funds, more than doubling its initial $200 million commitment.\\nThe bank has committed equity to more than 150 funds, which to date have invested in over 1,000 companies that span 40 states. These companies are led by 1,500 diverse entrepreneurs and employ over 21,000 people.\\n\"We work across our company to address critical needs in our communities, including the lack of access to capital that diverse business owners face as they start or grow their businesses,\" said Tram Nguyen, Global Head of Strategic and Sustainable Investments at Bank of America. \"We want to empower the talented fund managers who keenly understand how to identify and support those business owners. Each time we support a minority- or women-led fund, they in turn support diverse entrepreneurs, which ultimately helps us toward achieving our goal to advance racial equality and economic opportunity.\"\\nNot only are fund managers breaking down barriers themselves, but they are also investing in companies looking to catalyze change. As a graduate of a Historically Black College and University (HBCU), Nasir Qadree founded Zeal to provide overlooked founders with the resources they need to scale towards their next stage of growth. This includes being an early investor in Esusu, now one of the few Black-owned unicorns, which provides tools to help immigrants and minorities to provide rent reporting and data solutions for credit building.\\nChingona Ventures, led by General Partner Samara Hernandez, was the only active fund in the Midwest started and led by a Latina at the time of Bank of America\\'s investment. The fund targets founders with unique backgrounds creating businesses in markets that are often overlooked, like Papaya, a bilingual STEM tutoring organization to close the educational gap for underserved students.\\nBank of America continues to innovate and expand the capital and resources entrepreneurs and small business owners of all backgrounds need to help fuel economic growth in their communities. More on Bank of America\\'s work in supporting diverse funds and entrepreneurs can be found here.\\nBank of America\\nBank of America is one of the world\\'s leading financial institutions, serving individual consumers, small and middle-market businesses and large corporations with a full range of banking, investing, asset management and other financial and risk management products and services. The company provides unmatched convenience in the United States, serving approximately 68 million consumer and small business clients with approximately 3,900 retail financial centers, approximately 15,000 ATMs and award-winning digital banking with approximately 56 million verified digital users. Bank of America is a global leader in wealth management, corporate and investment banking and trading across a broad range of asset classes, serving corporations, governments, institutions and individuals around the world. Bank of America offers industry-leading support to approximately 3 million small business households through a suite of innovative, easy-to-use online products and services. The company serves clients through operations across the United States, its territories and more than 35 countries. Bank of America Corporation stock (NYSE: BAC) is listed on the New York Stock Exchange.\\nFor more Bank of America news, including dividend announcements and other important information, visit the Bank of America newsroom and register for news email alerts.\\nReporters may contact:\\nAnu Ahluwalia, Bank of America\\nPhone: 1.646.855.3375\\nanu.ahluwalia@bofa.com\\nSOURCE Bank of America Corporation')),\n",
       " GraphDocument(nodes=[Node(id='Unitedhealth Group Inc.', type='Company', properties={}), Node(id='John Rex', type='Person', properties={}), Node(id='Goldman Sachs', type='Company', properties={}), Node(id='Oppenheimer Analyst Michael Wiederhorn', type='Person', properties={}), Node(id='Humana Inc.', type='Company', properties={}), Node(id='Centene Corp.', type='Company', properties={}), Node(id='Elevance Health Inc.', type='Company', properties={}), Node(id='Cvs Health Corp.', type='Company', properties={})], relationships=[], source=Document(metadata={}, page_content='UnitedHealth\\'s stock selloff chopped more than 200 points off the Dow\\'s price Health insurer\\'s stock suffers second-biggest price decline since it starting trading 39 years ago\\nShares of UnitedHealth Group Inc. took a dive Wednesday to suffer their worst percentage performance in three years, after the health insurer said it was facing higher costs from pent-up demand for surgeries.\\nThe stock (UNH) was by far the biggest decliner within the Dow Jones Industrial Average , and was among the worst performers in the S&P 500 , along with fellow health insurers with Medicare Advantage exposure.\\nUnitedHealth\\'s stock dropped 6.4% to a one-year closing low of $459.86. That was the biggest percentage decline since it sank 7.2% on June 11, 2020.\\nThe stock\\'s price decline of $31.45 was the second-biggest since it started trading in October 1984, behind only the $47.00 (17.3%) plunge on March 16, 2020, at the height of the COVID-19 pandemic.\\nThe selloff was cut about 207 points off the Dow\\'s price, as the Dow fell 232.79 points, or 0.7%, while the S&P 500 gained 0.1%.\\nThe selloff comes after Chief Financial Officer John Rex said late Tuesday at a Goldman Sachs investor conference that there were indications of \"pent-up demand\" from senior citizens to have hip and knee procedures and cardiology checkups, which could hurt results from UnitedHealth\\'s Medicare business.\\nOppenheimer analyst Michael Wiederhorn said while other insurers that presented at recent conferences didn\\'t mention similar trends, he believed UnitedHealth\\'s comments will weigh on the entire sector.\\nHe said rival Humana Inc. (HUM) was potentially the most exposed, given its larger Medicare Advantage presence. And on cue, Humana\\'s stock was the S&P 500\\'s biggest decliner, tumbling 13.8%.\\nSome of the S&P 500\\'s other big losers were also in the Medicare Advantage business, as Centene Corp.\\'s (CNC) stock sank 6.9%, Elevance Health Inc. (ELV) shares shed 6.8% and CVS Health Corp.\\'s (CVS) stock slid 7.8%.\\nUnitedHealth\\'s stock has an outsized impact on the Dow\\'s price\\nUnitedHealth\\'s stock is the highest-priced component of the Dow, which is a price-weighted index, unlike the S&P 500, which is a market-capitalization-weighted index. That means the stock\\'s moves affect the Dow more than any other component.\\nAt Wednesday\\'s closing prices, a 1% move in UnitedHealth\\'s stock represents about a 30-point move in the Dow, while a 1% move in Walgreens Boots Alliance Inc.\\'s (WBA) stock, which is the lowest priced, has about a 2-point effect on the Dow.\\n-Tomi Kilgore\\nThis content was created by MarketWatch, which is operated by Dow Jones & Co. MarketWatch is published independently from Dow Jones Newswires and The Wall Street Journal.\\n\\n(END) Dow Jones Newswires\\n06-15-23 0902ET\\nCopyright (c) 2023 Dow Jones & Company, Inc.')),\n",
       " GraphDocument(nodes=[], relationships=[], source=Document(metadata={}, page_content='Houston Texans Come To Terms With Ex-Third-Round Pick Defensive Tackle KEY POINTS\\nThe Texans have signed Maliek Collins to a two-year deal\\nCollins becomes latest defensive player to settle a contract with a mother team\\nJ.J. Watt has yet to properly file his retirement with the NFL\\nThe Houston Texans have ramped up their defensive needs with the reported signing of Maliek Collins on Wednesday, June 14.\\nAccording to Adam Schefter of ESPN, both sides sealed the deal on a contract extension with Collins accepting a $23 million contract extension.\\n\"The deal was negotiated by Texans\\' GM Nick Caserio and director of football administration Andrew Brown with Collins\\' agents Drew Rosenhaus and Ryan Matha,\" the scribe wrote on his Twitter post\\nThe new deal gives Collins a bit of a raise and reportedly includes a $20 million guarantee.\\nIn his previous contract, the 28-year-old was earning $17 million with $8.5 million of that guaranteed.\\nThis will be his third year in the NFL, having had previous stops with the Dallas Cowboys (2016-2019) and the Las Vegas Raiders (2020).\\nThe Kansas native had a career-high 37 tackles to go with 3.5 sacks over 15 games last NFL season.\\nHe is projected to be a key piece in the defensive line of the Texans for the next couple of years.\\nLooking ahead, Collins is expected to fit in nicely with the 4-3 alignment that DeMeco Ryans is expected to implement.\\nHe is likely to become a full-time defensive tackle according to Sam Robison of Pro Football Talk.\\nWith the Texans in rebuilding mode, Collins was seen as one of the bright spots for the team. He started 15 games between 2021 and 2022, combining for six sacks and 18 tackles for a loss.\\nNow, he will be paid better, which means he will have added responsibility–particularly on the defensive side of the Texans\\' fence.\\nThe Collins deal also comes not long after other defensive tackles landed new deals with their respective teams. That list includes Dexter Lawrence, Daron Payne, Jeffery Simmons and Ed Oliver.\\nThere are still other names expected to land new contracts this NFL offseason. Yet to come to terms with their teams include Chris Jones of the Kansas City Chiefs and Quinnen Williams of the New York Jets.\\nIn related news, there remain questions in the air on whether J.J. Watt is officially retired.\\nAccording to a report by CBS Sports, Watt has yet to fill out his retirement papers with the NFL.\\nThis was despite his retiring last NFL season in an emotional game that saw him record two sacks in his allegedly final NFL game.\\nMoreover, the five-time first-team All-Pro does not intend to sign a one-day deal with the Texans although this is tied to him being inducted into the club\\'s Ring of Honor.\\n\"I personally just don\\'t really understand or see the reason for it,\" Watt stated. \"It\\'s more just a ceremonial piece of paper. I think that the Ring of Honor and all that comes with it is more than enough.\"')),\n",
       " GraphDocument(nodes=[], relationships=[], source=Document(metadata={}, page_content='Supplier.io and Hyatt Hotels Honored With 2023 Top Supply Chain Projects Award by Supply & Demand Chain Executive CHICAGO, June 15, 2023 /PRNewswire/ -- Supplier.io, the premier SaaS provider of supplier diversity data and management solutions, today announced that it and customer Hyatt Hotels received a Supply & Demand Chain Executive 2023 Top Supply Chain Projects award. Using Supplier.io\\'s solution, Hyatt was able to meet its five-year diverse supplier spend goal of 25% within three years and increased the number of its African American owned suppliers by more than 1,350%.\\n\"Hyatt Hotels has achieved remarkable success with its supplier diversity program, and we are honored to have helped its team quickly scale its program across global locations,\" said Aylin Basom, Supplier.io CEO. \"Engaging diverse suppliers is proven to uplift economies and empower local communities. Their success shows you how quickly an organization can grow and scale their supplier diversity program when all stakeholders are empowered with the tools and information to make more responsible sourcing decisions.\"\\nHyatt has prioritized supplier diversity since 1997, but manual processes and decentralized decision-making made it challenging to quantify the full results of their efforts. By implementing Supplier.io, Hyatt was able to identify its diverse suppliers and quantify their spend with these suppliers. Further, Hyatt enabled local properties to use Supplier.io\\'s database of more than 2 million diverse suppliers holding over 4 million certifications to find credible certified diverse suppliers effortlessly—including filters for location, company size, product offering, experience, and more.\\n\"Supplier.io has been instrumental in enabling Hyatt and our local properties to scale our supplier diversity program rapidly and exceed our goals years earlier than expected,\" said, Anne Hanch, SVP of Global Procurement, Hyatt Corporation. \"We are excited to continue partnering with more certified diverse suppliers across our properties, and we thank Supply & Demand Chain Executive for recognizing our commitment to partnering with diverse businesses.\"\\n\"From demand planning and forecasting to implementing the ultimate in warehouse automation, the past 12 months has seen companies within the supply chain and logistics space upgrade, enhance, adopt and adapt in order to achieve greater efficiency along the chain,\" says Marina Mayer, Editor-in-Chief of Supply & Demand Chain Executive and Food Logistics. \"Companies partnered to implement each other\\'s software and technology and work smarter, together. And, it\\'s these partnerships that have enabled many supply chain organizations to better manage inventory, reduce costs, retain employees, track data and analytics and build resilience for whatever disruptions may lie ahead.\"\\nGo to https://sdce.me/av7r0h to view the full list of Top Supply Chain Projects winners. Go to www.SDCExec.com/awards to learn more about upcoming Supply & Demand Chain Executive awards.\\nAbout Supplier.io\\nSupplier.io is the leading data, analytics, and SaaS provider of solutions that enable companies to manage, optimize, and scale their supplier diversity programs. Working as a trusted advisor to the Supplier Diversity community, Supplier.io\\'s mission is to support every program by providing innovative and superior end-to-end Supplier Diversity solutions. Equipped with unparalleled data intelligence, superior technology, and expert guidance, Supplier.io\\'s customers can establish and advance their supplier diversity initiatives effectively and strategically. For more information, visit www.supplier.io.\\nAbout Supply & Demand Chain Executive\\nSupply & Demand Chain Executive is the only supply chain publication covering the entire global supply chain, focusing on trucking, warehousing, packaging, procurement, risk management, professional development and more. Supply & Demand Chain Executive and sister publication Food Logistics also operate SCN Summit and Women in Supply Chain Forum. Go to www.SDCExec.com to learn more.\\nSOURCE Supplier.io')),\n",
       " GraphDocument(nodes=[Node(id='The Hollies', type='Band', properties={}), Node(id='Bmg', type='Company', properties={}), Node(id='Soundtrack Your Brand', type='Company', properties={}), Node(id='Ada Worldwide', type='Company', properties={}), Node(id='Rostrum Records', type='Label', properties={}), Node(id='Yoto', type='Company', properties={}), Node(id='Warner Music Group', type='Company', properties={})], relationships=[], source=Document(metadata={}, page_content=\"The Deals: BMG Acquires The Hollies’ Recording Catalog; Soundtrack Your Brand Raises $15M Also this week: ADA Worldwide signs a distribution pact with Rostrum Records, Warner Music partners with kids' audio platform Yoto and more.\\nListen to this article\\nB BMG acquired the recording catalog of British band (and Rock & Roll Hall of Famers) The Hollies. The deal includes over 20 studio, compilation, live and tribute album titles and rarities that are wholly owned by the group, including Evolution and Butterfly (1967), Hollies Sing Dylan and Hollies Sing Hollies (1969), Confessions of the Mind (1970); Distant Light (1971), Romany (1972), Out on the Road (1973); Hollies (1974), Another Night (1975), Write On and Russian Roulette (1976), Hollies Live Hits (1977), A Crazy Steal (1978), Five Three One – Double Seven O Four (1979), Buddy Holly (1980), and Then, Now, Always (2009). The agreement encompasses eight of The Hollies’ most-streamed tracks, including “Carrie Anne,” “King Midas In Reverse,” “Jennifer Eccles,” “On A Carousel,” “He Ain’t Heavy, He’s My Brother,” “Long Cool Woman (in a Black Dress)” and “The Air That I Breathe,” as well as the group’s cover versions of “4th of July, Asbury Park (Sandy)” (Bruce Springsteen), “Boulder to Birmingham” (Emmylou Harris) and “Say It Ain’t So, Jo” (Head).\\nRelated\\nSoundtrack Your Brand, a global music streaming service for businesses, announced a $15 million pre-growth round led by Matt Pincus‘ MUSIC in partnership with Liontree, JS Capital Management and Schusterman Family Investments. The round also included funding from music investors Dundee Partners and was supported by all major existing Soundtrack Your Brand investors including Balderton Capital, Fuel Venture Capital, Industrifonden, Telia and DIG. The investment will allow Soundtrack Your Brand to “double down” on its go-to-market strategy, according to a press release. Along with MUSIC’s investment, Pincus will join Soundtrack Your Brand’s board. In 2024, the company plans to raise an additional growth round.\\nRelated\\nADA Worldwide partnered with Rostrum Records to distribute the indie label’s entire catalog and new releases. Recent Rostrum releases include Fat Nick’s “Songs on the Radio” and DC The Don’s “Funeral” as well as new music from Alé Araya and Brevin Kim. Forthcoming releases include music from Fat Nick, Lou Phelps and My Favorite Color.\\nRelated\\nYoto, an audio platform for kids that’s behind screen-free portable audio players the Yoto Player and Yoto Mini, signed a deal with Warner Music Group that will make music from some of WMG’s artists available on the players. The partnership kicks off in June with music from Super Simple Songs, a popular YouTube channel boasting original children’s songs and traditional nursery rhymes that’s been distributed by WMG’s arts music division since 2020. Next year, Yoto will create “cards” featuring music from a curated group of WMG’s pop, rock and soul artists.\\nRelated\\nBelieve signed a marketing and distribution deal with Global Records Germany, the new Berlin branch of independent label Global Records. The first release under the agreement is “Party Songs” by Gamuel Sori & INNA, which dropped June 9.\")),\n",
       " GraphDocument(nodes=[], relationships=[], source=Document(metadata={}, page_content='Gordon McQueen, former Manchester United and Leeds player, dies at 70 MANCHESTER, England — Gordon McQueen, a defender who played for Manchester United, Leeds and Scotland’s national team, has died. He was 70.\\nMcQueen’s death was announced Thursday via a statement from his family released by Man United.\\nMcQueen was diagnosed with vascular dementia in 2021.\\n“We hope that as-well as creating many great football memories he’ll be remembered most for his character,” his family said. “Our house was always full of friends, family & football just as it was in his last few months as he fought so bravely in what became a very cruel battle against dementia.\\n“The disease may have taken him too soon but he definitely lived life to the full, the ultimate entertainer, the absolute heart and soul of every occasion, the most fun dad anyone could wish for.”\\nMcQueen began his career at Scottish club St. Mirren and went on to play in England. He was Britain’s most expensive player when he joined Man United for 495,000 pounds (now $626,000).\\nAdvertisement\\nHe won the English league title with Leeds and the FA Cup with Man United. He also made 30 international appearances for Scotland.\\nAfter his playing career, McQueen briefly managed Scottish team Airdrieonians and coached St. Mirren and Middlesbrough.\\nUnited said McQueen “oozed command and charisma” at the heart of its defense.\\n“Everyone at Manchester United is heartbroken by the loss of our beloved former defender, Gordon McQueen,” the club wrote on Twitter. “Our love and condolences are with his family at this terribly sad time.”\\nLeeds also said it was “saddened” to learn of his passing.\\n“Gordon was one of the best center backs I had the privilege of playing with,” former Man United teammate Bryan Robson said. “He was a perfect fit for Manchester United with his flair, courage and big personality, and that’s why the fans loved him.\\n“Most importantly, though, he was a brilliant person with a huge heart. He lit up any room he walked into, and that’s how he should be remembered.”')),\n",
       " GraphDocument(nodes=[], relationships=[], source=Document(metadata={}, page_content=\"State Street (NYSE:STT) shareholders have endured a 13% loss from investing in the stock five years ago In order to justify the effort of selecting individual stocks, it's worth striving to beat the returns from a market index fund. But even the best stock picker will only win with some selections. So we wouldn't blame long term State Street Corporation (NYSE:STT) shareholders for doubting their decision to hold, with the stock down 25% over a half decade. In contrast, the stock price has popped 9.8% in the last thirty days. However, this may be a matter of broader market optimism, since stocks are up 6.8% in the same time.\\nWith that in mind, it's worth seeing if the company's underlying fundamentals have been the driver of long term performance, or if there are some discrepancies.\\nView our latest analysis for State Street\\nTo paraphrase Benjamin Graham: Over the short term the market is a voting machine, but over the long term it's a weighing machine. One way to examine how market sentiment has changed over time is to look at the interaction between a company's share price and its earnings per share (EPS).\\nDuring the unfortunate half decade during which the share price slipped, State Street actually saw its earnings per share (EPS) improve by 6.1% per year. So it doesn't seem like EPS is a great guide to understanding how the market is valuing the stock. Alternatively, growth expectations may have been unreasonable in the past.\\nBecause of the sharp contrast between the EPS growth rate and the share price growth, we're inclined to look to other metrics to understand the changing market sentiment around the stock.\\nRevenue is actually up 0.5% over the time period. A more detailed examination of the revenue and earnings may or may not explain why the share price languishes; there could be an opportunity.\\nThe image below shows how earnings and revenue have tracked over time (if you click on the image you can see greater detail).\\nState Street is a well known stock, with plenty of analyst coverage, suggesting some visibility into future growth. You can see what analysts are predicting for State Street in this interactive graph of future profit estimates.\\nWe're pleased to report that State Street shareholders have received a total shareholder return of 22% over one year. That's including the dividend. That certainly beats the loss of about 3% per year over the last half decade. The long term loss makes us cautious, but the short term TSR gain certainly hints at a brighter future. Most investors take the time to check the data on insider transactions. You can\\nFor those who like to find this\\nYou’ll receive a for 1 hour of your time while helping us build better investing tools for the individual investors like yourself.\")),\n",
       " GraphDocument(nodes=[], relationships=[], source=Document(metadata={}, page_content='Flipkart and Polygon Labs partner to introduce Web3 loyalty program E-commerce major Flipkart is partnering with Web3 start-up Polygon Labs and loyalty platform Hang to launch a loyalty program FireDrops 2.0, which incentivises brand loyalty through gamification.\\nFireDrops will involve the community and use underlying NFT technology for rewards for a better user experience. NFTs enable easy ownership and redemption of rewards, thereby creating new revenue streams for brands and empowering customers to actively participate in the loyalty ecosystem.\\nIt aims to provide an immersive experience to users. Surprises, games and rewards await users as they engage with their favourite brands in meaningful ways, earning exciting benefits and rewards. Quests and games related to their preferred brands allow users to earn membership passes, lifetime discounts and more.\\nNaren Ravula, VP, Head of Product Strategy and Deployment at Flipkart, said, “By integrating Web3 and NFTs into brand loyalty programs, we are revolutionising brand marketing, storytelling and customer engagement. We recognise the value of customer loyalty and more importantly, the emerging space of Web3 loyalty. We are excited to partner with one of the best in the space for this innovative brand-first rewards and loyalty program.”\\nBrand engagement\\nThe program also plans to explore the launch of a dynamic marketplace that allows users to buy and sell rewards, adding flexibility and value to loyalty programs and fostering deeper brand engagement.\\n“The world’s most innovative brands, like Flipkart, have a monumental opportunity to redefine how they connect with their customers and build loyalty. The best programs of the future will be gamified, personalised and Web3-enabled. The next generation of loyalty is here, and we are excited to partner with Flipkart to bring it to the masses,” said Matt Smolin, CEO and founder of Hang.')),\n",
       " GraphDocument(nodes=[], relationships=[], source=Document(metadata={}, page_content='GE Vernova selected by Amplus Solar for its first onshore wind project GE Vernova on Thursday said that it has been selected by Amplus Solar for its 108 megawatt (MW) wind power project to be installed in Tamil Nadu, which is expected to be commissioned by August next year.\\n“GE Vernova will supply and commission 40 units of its 2.7-132 onshore wind turbines for this 108 MW wind power project. With this order, GE recorded more than 3 GW of orders in India with its 2.7 MW turbine and anticipates crossing 5 GW of onshore wind installed base in the country by early 2024.” the company said.\\nAmplus Solar’s wind farm will be commissioned by August 2024 and will provide accessible, affordable, and reliable green energy to local businesses and consumers, it added.\\nDeepak Maloo, Regional Sales Leader for GE Vernova’s onshore wind business in Asia Pacific said, “GE has demonstrated expertise in India, having installed over 50 per cent of new wind capacity in the country last year. We are thankful to Amplus Solar for entrusting us with their first wind farm and look forward to furthering our partnership as the company continues to build its renewable energy portfolio under the leadership of Petronas.”\\nAmplus Solar CEO, Sharad Pungalia, said, “We are happy to have found an experienced partner GE Vernova as we take another step in contributing to the country’s net-zero targets with our first wind-power project. We are confident that together, we can create the synergies needed for the successful completion of this project.”\\nGE Vernova’s 2.7-132 wind turbine has proven to be the technology of choice for many customers in India due to its industry leading performance at India’s low wind speeds.\\nThe project will leverage GE’s significant local footprint in India with product design primarily at GE’s technology centre in Bengaluru, turbines assembled at GE’s manufacturing facility in Pune and blades manufactured at LM Wind Power’s plant in Vadodara.'))]"
      ]
     },
     "execution_count": 27,
     "metadata": {},
     "output_type": "execute_result"
    }
   ],
   "source": [
    "graph_documents"
   ]
  },
  {
   "cell_type": "markdown",
   "id": "8ec99a18",
   "metadata": {},
   "source": [
    "#### Detemine the number of failed tool calls by the llm"
   ]
  },
  {
   "cell_type": "code",
   "execution_count": 28,
   "id": "01d074ce",
   "metadata": {},
   "outputs": [],
   "source": [
    "empty_count = 0\n",
    "\n",
    "for doc in graph_documents:\n",
    "    if not doc.nodes:\n",
    "        empty_count += 1"
   ]
  },
  {
   "cell_type": "code",
   "execution_count": 29,
   "id": "0a4a09bd",
   "metadata": {},
   "outputs": [
    {
     "name": "stdout",
     "output_type": "stream",
     "text": [
      "Percentage missing: 75.0\n"
     ]
    }
   ],
   "source": [
    "print(f\"Percentage missing: {empty_count/len(graph_documents)*100}\")"
   ]
  },
  {
   "cell_type": "code",
   "execution_count": null,
   "id": "083544e7",
   "metadata": {},
   "outputs": [],
   "source": []
  }
 ],
 "metadata": {
  "kernelspec": {
   "display_name": "opengraphrag3",
   "language": "python",
   "name": "opengraphrag3"
  },
  "language_info": {
   "codemirror_mode": {
    "name": "ipython",
    "version": 3
   },
   "file_extension": ".py",
   "mimetype": "text/x-python",
   "name": "python",
   "nbconvert_exporter": "python",
   "pygments_lexer": "ipython3",
   "version": "3.12.6"
  }
 },
 "nbformat": 4,
 "nbformat_minor": 5
}
